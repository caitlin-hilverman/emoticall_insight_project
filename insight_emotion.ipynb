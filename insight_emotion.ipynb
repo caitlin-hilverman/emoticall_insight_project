{
 "cells": [
  {
   "cell_type": "markdown",
   "metadata": {},
   "source": [
    "# 2. Classifying emotion from call transcripts \n",
    "\n",
    "Although using VADER provided the company with a way to see how sentiment changed over the course of each conversation, I thought it would also be useful to have an understanding of specifically which emotions Agents and Borrowers were exhibiting in their conversations. VADER - and most sentiment analysis tools and lexicons - provide sentiment values on a single scale ranging from negative to positive. For the current purposes - identifying good Agent performance, Borrower mood, and potentially aggressive or illegal Agent tactics - having access to a more fine-grained emotion label would be particularly useful.\n",
    "\n",
    "To this end, I created a coding scheme to capture the different emotions that Borrowers exhibit during their conversations. I labeled these by hand and fed the labels into supervised multinomial models to examine whether a model could be trained to accurately classify turns into emotion categories.\n",
    "\n",
    "## 2.1. Labeling emotions from call transcript data\n",
    "\n",
    "## "
   ]
  },
  {
   "cell_type": "code",
   "execution_count": 1,
   "metadata": {},
   "outputs": [],
   "source": [
    "import os, sys\n",
    "import matplotlib.pyplot as plt\n",
    "import numpy as np\n",
    "import pandas as pd\n",
    "import seaborn as sns\n",
    "from vaderSentiment.vaderSentiment import SentimentIntensityAnalyzer"
   ]
  },
  {
   "cell_type": "code",
   "execution_count": 2,
   "metadata": {},
   "outputs": [],
   "source": [
    "#reading in the data\n",
    "corpus = pd.read_csv('/Users/cah/anaconda3/envs/insight/Corpus_processed.csv', low_memory = False)"
   ]
  },
  {
   "cell_type": "code",
   "execution_count": 6,
   "metadata": {
    "scrolled": true
   },
   "outputs": [],
   "source": [
    "corpus.head()\n",
    "corpus2 = corpus"
   ]
  },
  {
   "cell_type": "code",
   "execution_count": 7,
   "metadata": {
    "scrolled": true
   },
   "outputs": [
    {
     "data": {
      "text/html": [
       "<div>\n",
       "<style scoped>\n",
       "    .dataframe tbody tr th:only-of-type {\n",
       "        vertical-align: middle;\n",
       "    }\n",
       "\n",
       "    .dataframe tbody tr th {\n",
       "        vertical-align: top;\n",
       "    }\n",
       "\n",
       "    .dataframe thead th {\n",
       "        text-align: right;\n",
       "    }\n",
       "</style>\n",
       "<table border=\"1\" class=\"dataframe\">\n",
       "  <thead>\n",
       "    <tr style=\"text-align: right;\">\n",
       "      <th></th>\n",
       "      <th>order</th>\n",
       "      <th>test_train</th>\n",
       "      <th>callID</th>\n",
       "      <th>index</th>\n",
       "      <th>speaker</th>\n",
       "      <th>startTime</th>\n",
       "      <th>endTime</th>\n",
       "      <th>transcript</th>\n",
       "      <th>emotion</th>\n",
       "      <th>wordcount</th>\n",
       "      <th>neg</th>\n",
       "      <th>neu</th>\n",
       "      <th>pos</th>\n",
       "      <th>compound</th>\n",
       "    </tr>\n",
       "  </thead>\n",
       "  <tbody>\n",
       "    <tr>\n",
       "      <th>0</th>\n",
       "      <td>0</td>\n",
       "      <td>Test</td>\n",
       "      <td>0a2c3d67-c0f7-4abb-831a-86009e29c5d2</td>\n",
       "      <td>0</td>\n",
       "      <td>Agent</td>\n",
       "      <td>1.26</td>\n",
       "      <td>4.24</td>\n",
       "      <td>those recovery minutes name you thomas speakin...</td>\n",
       "      <td>NaN</td>\n",
       "      <td>12</td>\n",
       "      <td>0.0</td>\n",
       "      <td>0.787</td>\n",
       "      <td>0.213</td>\n",
       "      <td>0.4019</td>\n",
       "    </tr>\n",
       "    <tr>\n",
       "      <th>1</th>\n",
       "      <td>1</td>\n",
       "      <td>Test</td>\n",
       "      <td>0a2c3d67-c0f7-4abb-831a-86009e29c5d2</td>\n",
       "      <td>1</td>\n",
       "      <td>Borrower</td>\n",
       "      <td>4.74</td>\n",
       "      <td>13.68</td>\n",
       "      <td>hi angela this is katie the phone number one e...</td>\n",
       "      <td>NaN</td>\n",
       "      <td>20</td>\n",
       "      <td>0.0</td>\n",
       "      <td>0.933</td>\n",
       "      <td>0.067</td>\n",
       "      <td>0.0772</td>\n",
       "    </tr>\n",
       "    <tr>\n",
       "      <th>2</th>\n",
       "      <td>2</td>\n",
       "      <td>Test</td>\n",
       "      <td>0a2c3d67-c0f7-4abb-831a-86009e29c5d2</td>\n",
       "      <td>2</td>\n",
       "      <td>Agent</td>\n",
       "      <td>15.43</td>\n",
       "      <td>17.05</td>\n",
       "      <td>four worth okay</td>\n",
       "      <td>NaN</td>\n",
       "      <td>3</td>\n",
       "      <td>0.0</td>\n",
       "      <td>0.208</td>\n",
       "      <td>0.792</td>\n",
       "      <td>0.4215</td>\n",
       "    </tr>\n",
       "    <tr>\n",
       "      <th>3</th>\n",
       "      <td>3</td>\n",
       "      <td>Test</td>\n",
       "      <td>0a2c3d67-c0f7-4abb-831a-86009e29c5d2</td>\n",
       "      <td>3</td>\n",
       "      <td>Borrower</td>\n",
       "      <td>16.13</td>\n",
       "      <td>16.63</td>\n",
       "      <td>alright</td>\n",
       "      <td>NaN</td>\n",
       "      <td>1</td>\n",
       "      <td>0.0</td>\n",
       "      <td>0.000</td>\n",
       "      <td>1.000</td>\n",
       "      <td>0.2500</td>\n",
       "    </tr>\n",
       "    <tr>\n",
       "      <th>4</th>\n",
       "      <td>4</td>\n",
       "      <td>Test</td>\n",
       "      <td>0a2c3d67-c0f7-4abb-831a-86009e29c5d2</td>\n",
       "      <td>4</td>\n",
       "      <td>Borrower</td>\n",
       "      <td>17.74</td>\n",
       "      <td>22.87</td>\n",
       "      <td>this it's i you get submit okay</td>\n",
       "      <td>NaN</td>\n",
       "      <td>7</td>\n",
       "      <td>0.0</td>\n",
       "      <td>0.725</td>\n",
       "      <td>0.275</td>\n",
       "      <td>0.2263</td>\n",
       "    </tr>\n",
       "  </tbody>\n",
       "</table>\n",
       "</div>"
      ],
      "text/plain": [
       "   order test_train                                callID  index   speaker  \\\n",
       "0      0       Test  0a2c3d67-c0f7-4abb-831a-86009e29c5d2      0     Agent   \n",
       "1      1       Test  0a2c3d67-c0f7-4abb-831a-86009e29c5d2      1  Borrower   \n",
       "2      2       Test  0a2c3d67-c0f7-4abb-831a-86009e29c5d2      2     Agent   \n",
       "3      3       Test  0a2c3d67-c0f7-4abb-831a-86009e29c5d2      3  Borrower   \n",
       "4      4       Test  0a2c3d67-c0f7-4abb-831a-86009e29c5d2      4  Borrower   \n",
       "\n",
       "  startTime  endTime                                         transcript  \\\n",
       "0      1.26     4.24  those recovery minutes name you thomas speakin...   \n",
       "1      4.74    13.68  hi angela this is katie the phone number one e...   \n",
       "2     15.43    17.05                                    four worth okay   \n",
       "3     16.13    16.63                                            alright   \n",
       "4     17.74    22.87                    this it's i you get submit okay   \n",
       "\n",
       "  emotion  wordcount  neg    neu    pos  compound  \n",
       "0     NaN         12  0.0  0.787  0.213    0.4019  \n",
       "1     NaN         20  0.0  0.933  0.067    0.0772  \n",
       "2     NaN          3  0.0  0.208  0.792    0.4215  \n",
       "3     NaN          1  0.0  0.000  1.000    0.2500  \n",
       "4     NaN          7  0.0  0.725  0.275    0.2263  "
      ]
     },
     "execution_count": 7,
     "metadata": {},
     "output_type": "execute_result"
    }
   ],
   "source": [
    "corpus2.head(n = 5)"
   ]
  },
  {
   "cell_type": "code",
   "execution_count": 7,
   "metadata": {},
   "outputs": [
    {
     "name": "stdout",
     "output_type": "stream",
     "text": [
      "<class 'pandas.core.frame.DataFrame'>\n",
      "RangeIndex: 188010 entries, 0 to 188009\n",
      "Data columns (total 10 columns):\n",
      "order         188010 non-null int64\n",
      "test_train    188010 non-null object\n",
      "callID        188010 non-null object\n",
      "index         188010 non-null int64\n",
      "speaker       188010 non-null object\n",
      "startTime     188010 non-null object\n",
      "endTime       188010 non-null float64\n",
      "transcript    188010 non-null object\n",
      "emotion       560 non-null object\n",
      "wordcount     188010 non-null int64\n",
      "dtypes: float64(1), int64(3), object(6)\n",
      "memory usage: 14.3+ MB\n"
     ]
    }
   ],
   "source": [
    "corpus2.info()"
   ]
  },
  {
   "cell_type": "code",
   "execution_count": 8,
   "metadata": {},
   "outputs": [],
   "source": [
    "corpus2['transcript_strip'] = corpus2['transcript'].str.strip()\n",
    "corpus2['speaker_cat'] = corpus2['speaker'].astype('category')\n",
    "#corpus2.speaker_cat.cat.codes"
   ]
  },
  {
   "cell_type": "code",
   "execution_count": 9,
   "metadata": {},
   "outputs": [
    {
     "data": {
      "text/html": [
       "<div>\n",
       "<style scoped>\n",
       "    .dataframe tbody tr th:only-of-type {\n",
       "        vertical-align: middle;\n",
       "    }\n",
       "\n",
       "    .dataframe tbody tr th {\n",
       "        vertical-align: top;\n",
       "    }\n",
       "\n",
       "    .dataframe thead th {\n",
       "        text-align: right;\n",
       "    }\n",
       "</style>\n",
       "<table border=\"1\" class=\"dataframe\">\n",
       "  <thead>\n",
       "    <tr style=\"text-align: right;\">\n",
       "      <th></th>\n",
       "      <th>order</th>\n",
       "      <th>test_train</th>\n",
       "      <th>callID</th>\n",
       "      <th>index</th>\n",
       "      <th>speaker</th>\n",
       "      <th>startTime</th>\n",
       "      <th>endTime</th>\n",
       "      <th>transcript</th>\n",
       "      <th>emotion</th>\n",
       "      <th>wordcount</th>\n",
       "      <th>transcript_strip</th>\n",
       "      <th>speaker_cat</th>\n",
       "    </tr>\n",
       "  </thead>\n",
       "  <tbody>\n",
       "    <tr>\n",
       "      <th>0</th>\n",
       "      <td>0</td>\n",
       "      <td>Test</td>\n",
       "      <td>0a2c3d67-c0f7-4abb-831a-86009e29c5d2</td>\n",
       "      <td>0</td>\n",
       "      <td>Agent</td>\n",
       "      <td>1.26</td>\n",
       "      <td>4.24</td>\n",
       "      <td>those recovery minutes name you thomas speakin...</td>\n",
       "      <td>NaN</td>\n",
       "      <td>12</td>\n",
       "      <td>those recovery minutes name you thomas speakin...</td>\n",
       "      <td>Agent</td>\n",
       "    </tr>\n",
       "    <tr>\n",
       "      <th>1</th>\n",
       "      <td>1</td>\n",
       "      <td>Test</td>\n",
       "      <td>0a2c3d67-c0f7-4abb-831a-86009e29c5d2</td>\n",
       "      <td>1</td>\n",
       "      <td>Borrower</td>\n",
       "      <td>4.74</td>\n",
       "      <td>13.68</td>\n",
       "      <td>hi angela this is katie the phone number one e...</td>\n",
       "      <td>NaN</td>\n",
       "      <td>20</td>\n",
       "      <td>hi angela this is katie the phone number one e...</td>\n",
       "      <td>Borrower</td>\n",
       "    </tr>\n",
       "    <tr>\n",
       "      <th>2</th>\n",
       "      <td>2</td>\n",
       "      <td>Test</td>\n",
       "      <td>0a2c3d67-c0f7-4abb-831a-86009e29c5d2</td>\n",
       "      <td>2</td>\n",
       "      <td>Agent</td>\n",
       "      <td>15.43</td>\n",
       "      <td>17.05</td>\n",
       "      <td>four worth okay</td>\n",
       "      <td>NaN</td>\n",
       "      <td>3</td>\n",
       "      <td>four worth okay</td>\n",
       "      <td>Agent</td>\n",
       "    </tr>\n",
       "    <tr>\n",
       "      <th>3</th>\n",
       "      <td>3</td>\n",
       "      <td>Test</td>\n",
       "      <td>0a2c3d67-c0f7-4abb-831a-86009e29c5d2</td>\n",
       "      <td>3</td>\n",
       "      <td>Borrower</td>\n",
       "      <td>16.13</td>\n",
       "      <td>16.63</td>\n",
       "      <td>alright</td>\n",
       "      <td>NaN</td>\n",
       "      <td>1</td>\n",
       "      <td>alright</td>\n",
       "      <td>Borrower</td>\n",
       "    </tr>\n",
       "    <tr>\n",
       "      <th>4</th>\n",
       "      <td>4</td>\n",
       "      <td>Test</td>\n",
       "      <td>0a2c3d67-c0f7-4abb-831a-86009e29c5d2</td>\n",
       "      <td>4</td>\n",
       "      <td>Borrower</td>\n",
       "      <td>17.74</td>\n",
       "      <td>22.87</td>\n",
       "      <td>this it's i you get submit okay</td>\n",
       "      <td>NaN</td>\n",
       "      <td>7</td>\n",
       "      <td>this it's i you get submit okay</td>\n",
       "      <td>Borrower</td>\n",
       "    </tr>\n",
       "  </tbody>\n",
       "</table>\n",
       "</div>"
      ],
      "text/plain": [
       "   order test_train                                callID  index   speaker  \\\n",
       "0      0       Test  0a2c3d67-c0f7-4abb-831a-86009e29c5d2      0     Agent   \n",
       "1      1       Test  0a2c3d67-c0f7-4abb-831a-86009e29c5d2      1  Borrower   \n",
       "2      2       Test  0a2c3d67-c0f7-4abb-831a-86009e29c5d2      2     Agent   \n",
       "3      3       Test  0a2c3d67-c0f7-4abb-831a-86009e29c5d2      3  Borrower   \n",
       "4      4       Test  0a2c3d67-c0f7-4abb-831a-86009e29c5d2      4  Borrower   \n",
       "\n",
       "  startTime  endTime                                         transcript  \\\n",
       "0      1.26     4.24  those recovery minutes name you thomas speakin...   \n",
       "1      4.74    13.68  hi angela this is katie the phone number one e...   \n",
       "2     15.43    17.05                                    four worth okay   \n",
       "3     16.13    16.63                                            alright   \n",
       "4     17.74    22.87                    this it's i you get submit okay   \n",
       "\n",
       "  emotion  wordcount                                   transcript_strip  \\\n",
       "0     NaN         12  those recovery minutes name you thomas speakin...   \n",
       "1     NaN         20  hi angela this is katie the phone number one e...   \n",
       "2     NaN          3                                    four worth okay   \n",
       "3     NaN          1                                            alright   \n",
       "4     NaN          7                    this it's i you get submit okay   \n",
       "\n",
       "  speaker_cat  \n",
       "0       Agent  \n",
       "1    Borrower  \n",
       "2       Agent  \n",
       "3    Borrower  \n",
       "4    Borrower  "
      ]
     },
     "execution_count": 9,
     "metadata": {},
     "output_type": "execute_result"
    }
   ],
   "source": [
    "corpus2.head()"
   ]
  },
  {
   "cell_type": "code",
   "execution_count": 10,
   "metadata": {},
   "outputs": [
    {
     "data": {
      "image/png": "[encoded data removed]",
      "text/plain": [
       "<Figure size 432x288 with 1 Axes>"
      ]
     },
     "metadata": {
      "needs_background": "light"
     },
     "output_type": "display_data"
    }
   ],
   "source": [
    "#word count distribution plot\n",
    "fig, ax = plt.subplots(figsize=(6, 4))\n",
    "sns.distplot(corpus2['wordcount'], color='green', hist_kws=dict(alpha=1))\n",
    "plt.xlabel('Word Count')\n",
    "plt.title('Distribution of Word Count')\n",
    "plt.show()"
   ]
  },
  {
   "cell_type": "code",
   "execution_count": 11,
   "metadata": {},
   "outputs": [],
   "source": [
    "#eliminating cells that had excess words\n",
    "corpus_sub = corpus2[corpus2['wordcount'] < 50]"
   ]
  },
  {
   "cell_type": "code",
   "execution_count": 12,
   "metadata": {},
   "outputs": [
    {
     "data": {
      "text/html": [
       "<div>\n",
       "<style scoped>\n",
       "    .dataframe tbody tr th:only-of-type {\n",
       "        vertical-align: middle;\n",
       "    }\n",
       "\n",
       "    .dataframe tbody tr th {\n",
       "        vertical-align: top;\n",
       "    }\n",
       "\n",
       "    .dataframe thead th {\n",
       "        text-align: right;\n",
       "    }\n",
       "</style>\n",
       "<table border=\"1\" class=\"dataframe\">\n",
       "  <thead>\n",
       "    <tr style=\"text-align: right;\">\n",
       "      <th></th>\n",
       "      <th>transcript_strip</th>\n",
       "      <th>emotion</th>\n",
       "      <th>category_id</th>\n",
       "    </tr>\n",
       "  </thead>\n",
       "  <tbody>\n",
       "    <tr>\n",
       "      <th>282</th>\n",
       "      <td>alright thank you</td>\n",
       "      <td>polite</td>\n",
       "      <td>0</td>\n",
       "    </tr>\n",
       "    <tr>\n",
       "      <th>425</th>\n",
       "      <td>i could do it as perfect if you could split it up</td>\n",
       "      <td>no emotion</td>\n",
       "      <td>1</td>\n",
       "    </tr>\n",
       "    <tr>\n",
       "      <th>599</th>\n",
       "      <td>alright thanks</td>\n",
       "      <td>polite</td>\n",
       "      <td>0</td>\n",
       "    </tr>\n",
       "    <tr>\n",
       "      <th>981</th>\n",
       "      <td>alright thank you so much for holding this is ...</td>\n",
       "      <td>polite</td>\n",
       "      <td>0</td>\n",
       "    </tr>\n",
       "    <tr>\n",
       "      <th>1956</th>\n",
       "      <td>alright thank you so much</td>\n",
       "      <td>polite</td>\n",
       "      <td>0</td>\n",
       "    </tr>\n",
       "  </tbody>\n",
       "</table>\n",
       "</div>"
      ],
      "text/plain": [
       "                                       transcript_strip     emotion  \\\n",
       "282                                   alright thank you      polite   \n",
       "425   i could do it as perfect if you could split it up  no emotion   \n",
       "599                                      alright thanks      polite   \n",
       "981   alright thank you so much for holding this is ...      polite   \n",
       "1956                          alright thank you so much      polite   \n",
       "\n",
       "      category_id  \n",
       "282             0  \n",
       "425             1  \n",
       "599             0  \n",
       "981             0  \n",
       "1956            0  "
      ]
     },
     "execution_count": 12,
     "metadata": {},
     "output_type": "execute_result"
    }
   ],
   "source": [
    "#focusing just on the two columns of interest - transcript_strip and emotion\n",
    "#getting rid of all null values\n",
    "from io import StringIO\n",
    "\n",
    "col = ['transcript_strip', 'emotion']\n",
    "corpus3 = corpus2[col]\n",
    "corpus3 = corpus3[pd.notnull(corpus3['transcript_strip'])]\n",
    "corpus3 = corpus3[pd.notnull(corpus3['emotion'])]\n",
    "\n",
    "\n",
    "corpus3.columns = ['transcript_strip', 'emotion']\n",
    "\n",
    "corpus3['category_id'] = corpus3['emotion'].factorize()[0]\n",
    "category_id_corpus3 = corpus3[['emotion', 'category_id']].drop_duplicates().sort_values('category_id')\n",
    "category_to_id = dict(category_id_corpus3.values)\n",
    "id_to_category = dict(category_id_corpus3[['category_id', 'emotion']].values)\n",
    "\n",
    "corpus3.head()"
   ]
  },
  {
   "cell_type": "code",
   "execution_count": 13,
   "metadata": {},
   "outputs": [
    {
     "data": {
      "image/png": "[encoded data removed]",
      "text/plain": [
       "<Figure size 576x432 with 1 Axes>"
      ]
     },
     "metadata": {
      "needs_background": "light"
     },
     "output_type": "display_data"
    }
   ],
   "source": [
    "import matplotlib.pyplot as plt\n",
    "fig = plt.figure(figsize=(8,6))\n",
    "corpus3.groupby('category_id').transcript_strip.count().plot.bar(ylim=0)\n",
    "plt.show()"
   ]
  },
  {
   "cell_type": "code",
   "execution_count": 14,
   "metadata": {},
   "outputs": [
    {
     "data": {
      "text/plain": [
       "(560, 171)"
      ]
     },
     "execution_count": 14,
     "metadata": {},
     "output_type": "execute_result"
    }
   ],
   "source": [
    "#now each of the 560 transcript narratives is represented by 171 features representing the tf-idf score for different unigram and bigrams\n",
    "from sklearn.feature_extraction.text import TfidfVectorizer\n",
    "tfidf = TfidfVectorizer(sublinear_tf=True, min_df=5, norm='l2', encoding='latin-1', ngram_range=(1, 2), stop_words='english')\n",
    "features = tfidf.fit_transform(corpus3.transcript_strip).toarray()\n",
    "labels = corpus3.category_id\n",
    "features.shape"
   ]
  },
  {
   "cell_type": "code",
   "execution_count": 15,
   "metadata": {
    "scrolled": true
   },
   "outputs": [
    {
     "name": "stdout",
     "output_type": "stream",
     "text": [
      "# 'angry':\n",
      "  . Most correlated unigrams:\n",
      ". number\n",
      ". fucking\n",
      "  . Most correlated bigrams:\n",
      ". just broke\n",
      ". broke law\n",
      "# 'avoidant':\n",
      "  . Most correlated unigrams:\n",
      ". pay\n",
      ". money\n",
      "  . Most correlated bigrams:\n",
      ". money right\n",
      ". don money\n",
      "# 'confused':\n",
      "  . Most correlated unigrams:\n",
      ". sorry\n",
      ". company\n",
      "  . Most correlated bigrams:\n",
      ". alright thanks\n",
      ". alright thank\n",
      "# 'no emotion':\n",
      "  . Most correlated unigrams:\n",
      ". yes\n",
      ". okay\n",
      "  . Most correlated bigrams:\n",
      ". alright thanks\n",
      ". alright thank\n",
      "# 'polite':\n",
      "  . Most correlated unigrams:\n",
      ". thank\n",
      ". alright\n",
      "  . Most correlated bigrams:\n",
      ". alright thanks\n",
      ". alright thank\n"
     ]
    }
   ],
   "source": [
    "#find the terms more correlated w each of the emotion labels\n",
    "from sklearn.feature_selection import chi2\n",
    "import numpy as np\n",
    "N = 2\n",
    "for emotion, category_id in sorted(category_to_id.items()):\n",
    "  features_chi2 = chi2(features, labels == category_id)\n",
    "  indices = np.argsort(features_chi2[0])\n",
    "  feature_names = np.array(tfidf.get_feature_names())[indices]\n",
    "  unigrams = [v for v in feature_names if len(v.split(' ')) == 1]\n",
    "  bigrams = [v for v in feature_names if len(v.split(' ')) == 2]\n",
    "  print(\"# '{}':\".format(emotion))\n",
    "  print(\"  . Most correlated unigrams:\\n. {}\".format('\\n. '.join(unigrams[-N:])))\n",
    "  print(\"  . Most correlated bigrams:\\n. {}\".format('\\n. '.join(bigrams[-N:])))"
   ]
  },
  {
   "cell_type": "code",
   "execution_count": 16,
   "metadata": {},
   "outputs": [],
   "source": [
    "#fitting models\n",
    "from sklearn.model_selection import train_test_split\n",
    "from sklearn.feature_extraction.text import CountVectorizer\n",
    "from sklearn.feature_extraction.text import TfidfTransformer\n",
    "from sklearn.naive_bayes import MultinomialNB\n",
    "\n",
    "X_train, X_test, y_train, y_test = train_test_split(corpus3['transcript_strip'], corpus3['emotion'], random_state = 0)\n",
    "count_vect = CountVectorizer()\n",
    "X_train_counts = count_vect.fit_transform(X_train)\n",
    "tfidf_transformer = TfidfTransformer()\n",
    "X_train_tfidf = tfidf_transformer.fit_transform(X_train_counts)\n",
    "clf = MultinomialNB().fit(X_train_tfidf, y_train)"
   ]
  },
  {
   "cell_type": "code",
   "execution_count": 19,
   "metadata": {},
   "outputs": [
    {
     "name": "stdout",
     "output_type": "stream",
     "text": [
      "['avoidant']\n"
     ]
    }
   ],
   "source": [
    "print(clf.predict(count_vect.transform([\"can't pay\"])))"
   ]
  },
  {
   "cell_type": "code",
   "execution_count": 35,
   "metadata": {},
   "outputs": [
    {
     "data": {
      "image/png": "[encoded data removed]",
      "text/plain": [
       "<Figure size 432x288 with 1 Axes>"
      ]
     },
     "metadata": {
      "needs_background": "light"
     },
     "output_type": "display_data"
    }
   ],
   "source": [
    "#bench marking 4 models - logistic regression, multinomial naive bayes, linear support vector machine, random forest\n",
    "from sklearn.linear_model import LogisticRegression\n",
    "from sklearn.ensemble import RandomForestClassifier\n",
    "from sklearn.svm import LinearSVC\n",
    "from sklearn.model_selection import cross_val_score\n",
    "\n",
    "import warnings\n",
    "\n",
    "warnings.simplefilter(action='ignore', category=FutureWarning)\n",
    "models = [\n",
    "    RandomForestClassifier(n_estimators=200, max_depth=3, random_state=0),\n",
    "    LinearSVC(),\n",
    "    MultinomialNB(),\n",
    "    LogisticRegression(solver='lbfgs', random_state=0),\n",
    "]\n",
    "CV = 5\n",
    "cv_df = pd.DataFrame(index=range(CV * len(models)))\n",
    "entries = []\n",
    "for model in models:\n",
    "  model_name = model.__class__.__name__\n",
    "  accuracies = cross_val_score(model, features, labels, scoring='accuracy', cv=CV)\n",
    "  for fold_idx, accuracy in enumerate(accuracies):\n",
    "    entries.append((model_name, fold_idx, accuracy))\n",
    "cv_df = pd.DataFrame(entries, columns=['model_name', 'fold_idx', 'accuracy'])\n",
    "\n",
    "sns.boxplot(x='model_name', y='accuracy', data=cv_df)\n",
    "sns.stripplot(x='model_name', y='accuracy', data=cv_df, \n",
    "              size=8, jitter=True, edgecolor=\"gray\", linewidth=2)\n",
    "plt.show()"
   ]
  },
  {
   "cell_type": "code",
   "execution_count": 21,
   "metadata": {},
   "outputs": [
    {
     "data": {
      "text/plain": [
       "model_name\n",
       "LinearSVC                 0.687607\n",
       "LogisticRegression        0.707156\n",
       "MultinomialNB             0.637341\n",
       "RandomForestClassifier    0.642697\n",
       "Name: accuracy, dtype: float64"
      ]
     },
     "execution_count": 21,
     "metadata": {},
     "output_type": "execute_result"
    }
   ],
   "source": [
    "cv_df.groupby('model_name').accuracy.mean()"
   ]
  },
  {
   "cell_type": "code",
   "execution_count": 36,
   "metadata": {},
   "outputs": [
    {
     "data": {
      "image/png": "[encoded data removed]",
      "text/plain": [
       "<Figure size 720x720 with 2 Axes>"
      ]
     },
     "metadata": {
      "needs_background": "light"
     },
     "output_type": "display_data"
    }
   ],
   "source": [
    "import warnings\n",
    "warnings.simplefilter(action='ignore', category=FutureWarning)\n",
    "\n",
    "model = LogisticRegression()\n",
    "X_train, X_test, y_train, y_test, indices_train, indices_test = train_test_split(features, labels, corpus3.index, test_size=0.33, random_state=0)\n",
    "model.fit(X_train, y_train)\n",
    "y_pred = model.predict(X_test)\n",
    "from sklearn.metrics import confusion_matrix\n",
    "conf_mat = confusion_matrix(y_test, y_pred)\n",
    "fig, ax = plt.subplots(figsize=(10,10))\n",
    "sns.heatmap(conf_mat, annot=True, fmt='d',\n",
    "            xticklabels=category_id_corpus3.emotion.values, yticklabels=category_id_corpus3.emotion.values)\n",
    "plt.ylabel('Actual')\n",
    "plt.xlabel('Predicted')\n",
    "plt.show()"
   ]
  },
  {
   "cell_type": "code",
   "execution_count": 30,
   "metadata": {},
   "outputs": [
    {
     "name": "stdout",
     "output_type": "stream",
     "text": [
      "'no emotion' predicted as 'angry' : 5 examples.\n"
     ]
    },
    {
     "data": {
      "text/html": [
       "<div>\n",
       "<style scoped>\n",
       "    .dataframe tbody tr th:only-of-type {\n",
       "        vertical-align: middle;\n",
       "    }\n",
       "\n",
       "    .dataframe tbody tr th {\n",
       "        vertical-align: top;\n",
       "    }\n",
       "\n",
       "    .dataframe thead th {\n",
       "        text-align: right;\n",
       "    }\n",
       "</style>\n",
       "<table border=\"1\" class=\"dataframe\">\n",
       "  <thead>\n",
       "    <tr style=\"text-align: right;\">\n",
       "      <th></th>\n",
       "      <th>emotion</th>\n",
       "      <th>transcript_strip</th>\n",
       "    </tr>\n",
       "  </thead>\n",
       "  <tbody>\n",
       "    <tr>\n",
       "      <th>37319</th>\n",
       "      <td>no emotion</td>\n",
       "      <td>yeah thank tomorrow just calling me tomorrow a...</td>\n",
       "    </tr>\n",
       "    <tr>\n",
       "      <th>37416</th>\n",
       "      <td>no emotion</td>\n",
       "      <td>my name ann i you called</td>\n",
       "    </tr>\n",
       "    <tr>\n",
       "      <th>37402</th>\n",
       "      <td>no emotion</td>\n",
       "      <td>nothing has been recorded record your message ...</td>\n",
       "    </tr>\n",
       "    <tr>\n",
       "      <th>37309</th>\n",
       "      <td>no emotion</td>\n",
       "      <td>how do your pronounce that on just told me for...</td>\n",
       "    </tr>\n",
       "    <tr>\n",
       "      <th>37287</th>\n",
       "      <td>no emotion</td>\n",
       "      <td>all just calling into interrupted</td>\n",
       "    </tr>\n",
       "  </tbody>\n",
       "</table>\n",
       "</div>"
      ],
      "text/plain": [
       "          emotion                                   transcript_strip\n",
       "37319  no emotion  yeah thank tomorrow just calling me tomorrow a...\n",
       "37416  no emotion                           my name ann i you called\n",
       "37402  no emotion  nothing has been recorded record your message ...\n",
       "37309  no emotion  how do your pronounce that on just told me for...\n",
       "37287  no emotion                  all just calling into interrupted"
      ]
     },
     "metadata": {},
     "output_type": "display_data"
    },
    {
     "name": "stdout",
     "output_type": "stream",
     "text": [
      "\n",
      "'no emotion' predicted as 'confused' : 15 examples.\n"
     ]
    },
    {
     "data": {
      "text/html": [
       "<div>\n",
       "<style scoped>\n",
       "    .dataframe tbody tr th:only-of-type {\n",
       "        vertical-align: middle;\n",
       "    }\n",
       "\n",
       "    .dataframe tbody tr th {\n",
       "        vertical-align: top;\n",
       "    }\n",
       "\n",
       "    .dataframe thead th {\n",
       "        text-align: right;\n",
       "    }\n",
       "</style>\n",
       "<table border=\"1\" class=\"dataframe\">\n",
       "  <thead>\n",
       "    <tr style=\"text-align: right;\">\n",
       "      <th></th>\n",
       "      <th>emotion</th>\n",
       "      <th>transcript_strip</th>\n",
       "    </tr>\n",
       "  </thead>\n",
       "  <tbody>\n",
       "    <tr>\n",
       "      <th>168685</th>\n",
       "      <td>no emotion</td>\n",
       "      <td>a employed on delivery</td>\n",
       "    </tr>\n",
       "    <tr>\n",
       "      <th>37293</th>\n",
       "      <td>no emotion</td>\n",
       "      <td>button</td>\n",
       "    </tr>\n",
       "    <tr>\n",
       "      <th>37399</th>\n",
       "      <td>no emotion</td>\n",
       "      <td>if that's an action for getting that perfect</td>\n",
       "    </tr>\n",
       "    <tr>\n",
       "      <th>37395</th>\n",
       "      <td>no emotion</td>\n",
       "      <td>from what now</td>\n",
       "    </tr>\n",
       "    <tr>\n",
       "      <th>119651</th>\n",
       "      <td>no emotion</td>\n",
       "      <td>about my account</td>\n",
       "    </tr>\n",
       "    <tr>\n",
       "      <th>169348</th>\n",
       "      <td>no emotion</td>\n",
       "      <td>amy what's your last night</td>\n",
       "    </tr>\n",
       "    <tr>\n",
       "      <th>52067</th>\n",
       "      <td>no emotion</td>\n",
       "      <td>a</td>\n",
       "    </tr>\n",
       "    <tr>\n",
       "      <th>67688</th>\n",
       "      <td>no emotion</td>\n",
       "      <td>a little bit</td>\n",
       "    </tr>\n",
       "    <tr>\n",
       "      <th>425</th>\n",
       "      <td>no emotion</td>\n",
       "      <td>i could do it as perfect if you could split it up</td>\n",
       "    </tr>\n",
       "    <tr>\n",
       "      <th>91255</th>\n",
       "      <td>no emotion</td>\n",
       "      <td>and what is a budget program</td>\n",
       "    </tr>\n",
       "    <tr>\n",
       "      <th>130038</th>\n",
       "      <td>no emotion</td>\n",
       "      <td>a a three sir</td>\n",
       "    </tr>\n",
       "    <tr>\n",
       "      <th>50100</th>\n",
       "      <td>no emotion</td>\n",
       "      <td>a monthly basis</td>\n",
       "    </tr>\n",
       "    <tr>\n",
       "      <th>164112</th>\n",
       "      <td>no emotion</td>\n",
       "      <td>and</td>\n",
       "    </tr>\n",
       "    <tr>\n",
       "      <th>37332</th>\n",
       "      <td>no emotion</td>\n",
       "      <td>no</td>\n",
       "    </tr>\n",
       "    <tr>\n",
       "      <th>37392</th>\n",
       "      <td>no emotion</td>\n",
       "      <td>sprint</td>\n",
       "    </tr>\n",
       "  </tbody>\n",
       "</table>\n",
       "</div>"
      ],
      "text/plain": [
       "           emotion                                   transcript_strip\n",
       "168685  no emotion                             a employed on delivery\n",
       "37293   no emotion                                             button\n",
       "37399   no emotion       if that's an action for getting that perfect\n",
       "37395   no emotion                                      from what now\n",
       "119651  no emotion                                   about my account\n",
       "169348  no emotion                         amy what's your last night\n",
       "52067   no emotion                                                  a\n",
       "67688   no emotion                                       a little bit\n",
       "425     no emotion  i could do it as perfect if you could split it up\n",
       "91255   no emotion                       and what is a budget program\n",
       "130038  no emotion                                      a a three sir\n",
       "50100   no emotion                                    a monthly basis\n",
       "164112  no emotion                                                and\n",
       "37332   no emotion                                                 no\n",
       "37392   no emotion                                             sprint"
      ]
     },
     "metadata": {},
     "output_type": "display_data"
    },
    {
     "name": "stdout",
     "output_type": "stream",
     "text": [
      "\n",
      "'no emotion' predicted as 'avoidant' : 5 examples.\n"
     ]
    },
    {
     "data": {
      "text/html": [
       "<div>\n",
       "<style scoped>\n",
       "    .dataframe tbody tr th:only-of-type {\n",
       "        vertical-align: middle;\n",
       "    }\n",
       "\n",
       "    .dataframe tbody tr th {\n",
       "        vertical-align: top;\n",
       "    }\n",
       "\n",
       "    .dataframe thead th {\n",
       "        text-align: right;\n",
       "    }\n",
       "</style>\n",
       "<table border=\"1\" class=\"dataframe\">\n",
       "  <thead>\n",
       "    <tr style=\"text-align: right;\">\n",
       "      <th></th>\n",
       "      <th>emotion</th>\n",
       "      <th>transcript_strip</th>\n",
       "    </tr>\n",
       "  </thead>\n",
       "  <tbody>\n",
       "    <tr>\n",
       "      <th>166882</th>\n",
       "      <td>no emotion</td>\n",
       "      <td>actually it's the second friday of june</td>\n",
       "    </tr>\n",
       "    <tr>\n",
       "      <th>37455</th>\n",
       "      <td>no emotion</td>\n",
       "      <td>oh okay okay maybe that's right i don't know i...</td>\n",
       "    </tr>\n",
       "    <tr>\n",
       "      <th>57411</th>\n",
       "      <td>no emotion</td>\n",
       "      <td>actually</td>\n",
       "    </tr>\n",
       "    <tr>\n",
       "      <th>37411</th>\n",
       "      <td>no emotion</td>\n",
       "      <td>who you looking for</td>\n",
       "    </tr>\n",
       "    <tr>\n",
       "      <th>37344</th>\n",
       "      <td>no emotion</td>\n",
       "      <td>is what no i don't sure don't he have a cell b...</td>\n",
       "    </tr>\n",
       "  </tbody>\n",
       "</table>\n",
       "</div>"
      ],
      "text/plain": [
       "           emotion                                   transcript_strip\n",
       "166882  no emotion            actually it's the second friday of june\n",
       "37455   no emotion  oh okay okay maybe that's right i don't know i...\n",
       "57411   no emotion                                           actually\n",
       "37411   no emotion                                who you looking for\n",
       "37344   no emotion  is what no i don't sure don't he have a cell b..."
      ]
     },
     "metadata": {},
     "output_type": "display_data"
    },
    {
     "name": "stdout",
     "output_type": "stream",
     "text": [
      "\n",
      "'angry' predicted as 'avoidant' : 6 examples.\n"
     ]
    },
    {
     "data": {
      "text/html": [
       "<div>\n",
       "<style scoped>\n",
       "    .dataframe tbody tr th:only-of-type {\n",
       "        vertical-align: middle;\n",
       "    }\n",
       "\n",
       "    .dataframe tbody tr th {\n",
       "        vertical-align: top;\n",
       "    }\n",
       "\n",
       "    .dataframe thead th {\n",
       "        text-align: right;\n",
       "    }\n",
       "</style>\n",
       "<table border=\"1\" class=\"dataframe\">\n",
       "  <thead>\n",
       "    <tr style=\"text-align: right;\">\n",
       "      <th></th>\n",
       "      <th>emotion</th>\n",
       "      <th>transcript_strip</th>\n",
       "    </tr>\n",
       "  </thead>\n",
       "  <tbody>\n",
       "    <tr>\n",
       "      <th>167741</th>\n",
       "      <td>angry</td>\n",
       "      <td>am pissed because if consolidated yeah i wanna...</td>\n",
       "    </tr>\n",
       "    <tr>\n",
       "      <th>40349</th>\n",
       "      <td>angry</td>\n",
       "      <td>now i want to have money back i hold on lying ...</td>\n",
       "    </tr>\n",
       "    <tr>\n",
       "      <th>66312</th>\n",
       "      <td>angry</td>\n",
       "      <td>okay first of all i talked to somebody yesterd...</td>\n",
       "    </tr>\n",
       "    <tr>\n",
       "      <th>20023</th>\n",
       "      <td>angry</td>\n",
       "      <td>because i i get unit kelly my is i just annoyi...</td>\n",
       "    </tr>\n",
       "    <tr>\n",
       "      <th>35910</th>\n",
       "      <td>angry</td>\n",
       "      <td>or just tell me what it about all this is actu...</td>\n",
       "    </tr>\n",
       "    <tr>\n",
       "      <th>67559</th>\n",
       "      <td>angry</td>\n",
       "      <td>an email because bullshit like this happened i...</td>\n",
       "    </tr>\n",
       "  </tbody>\n",
       "</table>\n",
       "</div>"
      ],
      "text/plain": [
       "       emotion                                   transcript_strip\n",
       "167741   angry  am pissed because if consolidated yeah i wanna...\n",
       "40349    angry  now i want to have money back i hold on lying ...\n",
       "66312    angry  okay first of all i talked to somebody yesterd...\n",
       "20023    angry  because i i get unit kelly my is i just annoyi...\n",
       "35910    angry  or just tell me what it about all this is actu...\n",
       "67559    angry  an email because bullshit like this happened i..."
      ]
     },
     "metadata": {},
     "output_type": "display_data"
    },
    {
     "name": "stdout",
     "output_type": "stream",
     "text": [
      "\n"
     ]
    }
   ],
   "source": [
    "from IPython.display import display\n",
    "for predicted in category_id_corpus3.category_id:\n",
    "  for actual in category_id_corpus3.category_id:\n",
    "    if predicted != actual and conf_mat[actual, predicted] >= 5:\n",
    "      print(\"'{}' predicted as '{}' : {} examples.\".format(id_to_category[actual], id_to_category[predicted], conf_mat[actual, predicted]))\n",
    "      display(corpus3.loc[indices_test[(y_test == actual) & (y_pred == predicted)]][['emotion', 'transcript_strip']])\n",
    "      print('')"
   ]
  },
  {
   "cell_type": "code",
   "execution_count": 37,
   "metadata": {},
   "outputs": [
    {
     "name": "stdout",
     "output_type": "stream",
     "text": [
      "# 'angry':\n",
      "  . Top unigrams:\n",
      "       . number\n",
      "       . fucking\n",
      "  . Top bigrams:\n",
      "       . just broke\n",
      "       . broke law\n",
      "# 'avoidant':\n",
      "  . Top unigrams:\n",
      "       . money\n",
      "       . pay\n",
      "  . Top bigrams:\n",
      "       . don money\n",
      "       . money right\n",
      "# 'confused':\n",
      "  . Top unigrams:\n",
      "       . company\n",
      "       . does\n",
      "  . Top bigrams:\n",
      "       . don know\n",
      "       . dollars month\n",
      "# 'no emotion':\n",
      "  . Top unigrams:\n",
      "       . okay\n",
      "       . yes\n",
      "  . Top bigrams:\n",
      "       . right don\n",
      "       . dollars month\n",
      "# 'polite':\n",
      "  . Top unigrams:\n",
      "       . thank\n",
      "       . appreciate\n",
      "  . Top bigrams:\n",
      "       . alright thank\n",
      "       . alright thanks\n"
     ]
    }
   ],
   "source": [
    "model.fit(features, labels)\n",
    "N = 2\n",
    "for Product, category_id in sorted(category_to_id.items()):\n",
    "  indices = np.argsort(model.coef_[category_id])\n",
    "  feature_names = np.array(tfidf.get_feature_names())[indices]\n",
    "  unigrams = [v for v in reversed(feature_names) if len(v.split(' ')) == 1][:N]\n",
    "  bigrams = [v for v in reversed(feature_names) if len(v.split(' ')) == 2][:N]\n",
    "  print(\"# '{}':\".format(Product))\n",
    "  print(\"  . Top unigrams:\\n       . {}\".format('\\n       . '.join(unigrams)))\n",
    "  print(\"  . Top bigrams:\\n       . {}\".format('\\n       . '.join(bigrams)))"
   ]
  },
  {
   "cell_type": "code",
   "execution_count": 32,
   "metadata": {
    "scrolled": true
   },
   "outputs": [
    {
     "name": "stdout",
     "output_type": "stream",
     "text": [
      "              precision    recall  f1-score   support\n",
      "\n",
      "      polite       0.88      0.88      0.88        33\n",
      "  no emotion       0.63      0.31      0.41        39\n",
      "       angry       0.74      0.69      0.72        42\n",
      "    confused       0.53      0.71      0.61        35\n",
      "    avoidant       0.66      0.86      0.75        36\n",
      "\n",
      "   micro avg       0.68      0.68      0.68       185\n",
      "   macro avg       0.69      0.69      0.67       185\n",
      "weighted avg       0.69      0.68      0.67       185\n",
      "\n"
     ]
    }
   ],
   "source": [
    "from sklearn import metrics\n",
    "print(metrics.classification_report(y_test, y_pred, target_names=corpus3['emotion'].unique()))"
   ]
  },
  {
   "cell_type": "code",
   "execution_count": 101,
   "metadata": {},
   "outputs": [
    {
     "data": {
      "text/plain": [
       "['model.pkl']"
      ]
     },
     "execution_count": 101,
     "metadata": {},
     "output_type": "execute_result"
    }
   ],
   "source": [
    "#save model after training\n",
    "#import joblib\n",
    "joblib.dump(model, 'model.pkl')"
   ]
  },
  {
   "cell_type": "code",
   "execution_count": 103,
   "metadata": {},
   "outputs": [],
   "source": [
    "#When you need to load it:\n",
    "#model = open('model.pkl','rb')\n",
    "#model = joblib.load(model)"
   ]
  },
  {
   "cell_type": "code",
   "execution_count": 33,
   "metadata": {},
   "outputs": [],
   "source": [
    "result = model.score(X_test, y_test)"
   ]
  },
  {
   "cell_type": "code",
   "execution_count": 34,
   "metadata": {},
   "outputs": [
    {
     "name": "stdout",
     "output_type": "stream",
     "text": [
      "0.7837837837837838\n"
     ]
    }
   ],
   "source": [
    "print(result)"
   ]
  },
  {
   "cell_type": "code",
   "execution_count": null,
   "metadata": {},
   "outputs": [],
   "source": []
  }
 ],
 "metadata": {
  "kernelspec": {
   "display_name": "Python 3",
   "language": "python",
   "name": "python3"
  },
  "language_info": {
   "codemirror_mode": {
    "name": "ipython",
    "version": 3
   },
   "file_extension": ".py",
   "mimetype": "text/x-python",
   "name": "python",
   "nbconvert_exporter": "python",
   "pygments_lexer": "ipython3",
   "version": "3.7.3"
  }
 },
 "nbformat": 4,
 "nbformat_minor": 2
}
