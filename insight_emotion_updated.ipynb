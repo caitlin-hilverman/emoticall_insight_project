{
 "cells": [
  {
   "cell_type": "markdown",
   "metadata": {},
   "source": [
    "# 2. Classifying emotion from call transcripts \n",
    "\n",
    "Although using VADER provided the company with a way to see how sentiment changed over the course of each conversation, I thought it would also be useful to have an understanding of specifically which emotions Agents and Borrowers were exhibiting in their conversations. VADER - and most sentiment analysis tools and lexicons - provide sentiment values on a single scale ranging from negative to positive. For the current purposes - identifying good Agent performance, Borrower mood, and potentially aggressive or illegal Agent tactics - having access to a more fine-grained emotion label would be particularly useful.\n",
    "\n",
    "To this end, I created a coding scheme to capture the different emotions that Borrowers exhibit during their conversations. I labeled these by hand and fed the labels into supervised multinomial models to examine whether a model could be trained to accurately classify turns into emotion categories.\n",
    "\n",
    "## 2.1. Labeling emotions from call transcript data\n",
    "\n",
    "Because Agents and Borrowers exhibited very different sets of emotions during calls, I focused only on the emotions of Borrowers. I found that they naturally fell into five categories: angry, confused, avoidant, polite, and no emotion. I labeled roughly 100 cases for each of the classes. However, once I removed all cases with VADER compound scores of 0 (see below) the number of cases significantly dropped for the no emotion category.\n",
    "\n",
    "## 2.2. Training and comparing models on the labeled emotion data\n",
    "\n",
    "I then converted all words to tf-idf vectors. I chose this route rather than simple word frequency to focus more explicitly on the *relevance* of the words rather than total count; given the constrained context, many words were the same across categories. I trained 4 different types of models, 3 of which performed above 70%.\n",
    "\n",
    "## 2.3 Improving model performance\n",
    "\n",
    "The confusion matrix demonstrated that the _no emotion_ and _confusion_ categories had the poorest accuracy relative to the others. To mitigate this, I integrated the VADER scores for each turn. I removed all turns that had a VADER score of 0 (presuming that those cases with neutral sentiment also likely expressed no emotion). This improved model performance by 10%. "
   ]
  },
  {
   "cell_type": "code",
   "execution_count": 1,
   "metadata": {},
   "outputs": [],
   "source": [
    "import os, sys\n",
    "import matplotlib.pyplot as plt\n",
    "import numpy as np\n",
    "import pandas as pd\n",
    "import seaborn as sns\n",
    "from vaderSentiment.vaderSentiment import SentimentIntensityAnalyzer"
   ]
  },
  {
   "cell_type": "code",
   "execution_count": 2,
   "metadata": {},
   "outputs": [],
   "source": [
    "#reading in the data\n",
    "corpus = pd.read_csv('/Users/cah/anaconda3/envs/insight/Corpus_processed.csv', low_memory = False)"
   ]
  },
  {
   "cell_type": "code",
   "execution_count": 3,
   "metadata": {
    "scrolled": true
   },
   "outputs": [
    {
     "data": {
      "text/html": [
       "<div>\n",
       "<style scoped>\n",
       "    .dataframe tbody tr th:only-of-type {\n",
       "        vertical-align: middle;\n",
       "    }\n",
       "\n",
       "    .dataframe tbody tr th {\n",
       "        vertical-align: top;\n",
       "    }\n",
       "\n",
       "    .dataframe thead th {\n",
       "        text-align: right;\n",
       "    }\n",
       "</style>\n",
       "<table border=\"1\" class=\"dataframe\">\n",
       "  <thead>\n",
       "    <tr style=\"text-align: right;\">\n",
       "      <th></th>\n",
       "      <th>order</th>\n",
       "      <th>test_train</th>\n",
       "      <th>callID</th>\n",
       "      <th>index</th>\n",
       "      <th>speaker</th>\n",
       "      <th>startTime</th>\n",
       "      <th>endTime</th>\n",
       "      <th>transcript</th>\n",
       "      <th>emotion</th>\n",
       "      <th>wordcount</th>\n",
       "    </tr>\n",
       "  </thead>\n",
       "  <tbody>\n",
       "    <tr>\n",
       "      <th>0</th>\n",
       "      <td>0</td>\n",
       "      <td>Test</td>\n",
       "      <td>0a2c3d67-c0f7-4abb-831a-86009e29c5d2</td>\n",
       "      <td>0</td>\n",
       "      <td>Agent</td>\n",
       "      <td>1.26</td>\n",
       "      <td>4.24</td>\n",
       "      <td>those recovery minutes name you thomas speakin...</td>\n",
       "      <td>NaN</td>\n",
       "      <td>12</td>\n",
       "    </tr>\n",
       "    <tr>\n",
       "      <th>1</th>\n",
       "      <td>1</td>\n",
       "      <td>Test</td>\n",
       "      <td>0a2c3d67-c0f7-4abb-831a-86009e29c5d2</td>\n",
       "      <td>1</td>\n",
       "      <td>Borrower</td>\n",
       "      <td>4.74</td>\n",
       "      <td>13.68</td>\n",
       "      <td>hi angela this is katie the phone number one e...</td>\n",
       "      <td>NaN</td>\n",
       "      <td>20</td>\n",
       "    </tr>\n",
       "    <tr>\n",
       "      <th>2</th>\n",
       "      <td>2</td>\n",
       "      <td>Test</td>\n",
       "      <td>0a2c3d67-c0f7-4abb-831a-86009e29c5d2</td>\n",
       "      <td>2</td>\n",
       "      <td>Agent</td>\n",
       "      <td>15.43</td>\n",
       "      <td>17.05</td>\n",
       "      <td>four worth okay</td>\n",
       "      <td>NaN</td>\n",
       "      <td>3</td>\n",
       "    </tr>\n",
       "    <tr>\n",
       "      <th>3</th>\n",
       "      <td>3</td>\n",
       "      <td>Test</td>\n",
       "      <td>0a2c3d67-c0f7-4abb-831a-86009e29c5d2</td>\n",
       "      <td>3</td>\n",
       "      <td>Borrower</td>\n",
       "      <td>16.13</td>\n",
       "      <td>16.63</td>\n",
       "      <td>alright</td>\n",
       "      <td>NaN</td>\n",
       "      <td>1</td>\n",
       "    </tr>\n",
       "    <tr>\n",
       "      <th>4</th>\n",
       "      <td>4</td>\n",
       "      <td>Test</td>\n",
       "      <td>0a2c3d67-c0f7-4abb-831a-86009e29c5d2</td>\n",
       "      <td>4</td>\n",
       "      <td>Borrower</td>\n",
       "      <td>17.74</td>\n",
       "      <td>22.87</td>\n",
       "      <td>this it's i you get submit okay</td>\n",
       "      <td>NaN</td>\n",
       "      <td>7</td>\n",
       "    </tr>\n",
       "  </tbody>\n",
       "</table>\n",
       "</div>"
      ],
      "text/plain": [
       "   order test_train                                callID  index   speaker  \\\n",
       "0      0       Test  0a2c3d67-c0f7-4abb-831a-86009e29c5d2      0     Agent   \n",
       "1      1       Test  0a2c3d67-c0f7-4abb-831a-86009e29c5d2      1  Borrower   \n",
       "2      2       Test  0a2c3d67-c0f7-4abb-831a-86009e29c5d2      2     Agent   \n",
       "3      3       Test  0a2c3d67-c0f7-4abb-831a-86009e29c5d2      3  Borrower   \n",
       "4      4       Test  0a2c3d67-c0f7-4abb-831a-86009e29c5d2      4  Borrower   \n",
       "\n",
       "  startTime  endTime                                         transcript  \\\n",
       "0      1.26     4.24  those recovery minutes name you thomas speakin...   \n",
       "1      4.74    13.68  hi angela this is katie the phone number one e...   \n",
       "2     15.43    17.05                                    four worth okay   \n",
       "3     16.13    16.63                                            alright   \n",
       "4     17.74    22.87                    this it's i you get submit okay   \n",
       "\n",
       "  emotion  wordcount  \n",
       "0     NaN         12  \n",
       "1     NaN         20  \n",
       "2     NaN          3  \n",
       "3     NaN          1  \n",
       "4     NaN          7  "
      ]
     },
     "execution_count": 3,
     "metadata": {},
     "output_type": "execute_result"
    }
   ],
   "source": [
    "corpus2 = corpus\n",
    "corpus2.head(n = 5)"
   ]
  },
  {
   "cell_type": "code",
   "execution_count": 4,
   "metadata": {},
   "outputs": [
    {
     "name": "stdout",
     "output_type": "stream",
     "text": [
      "<class 'pandas.core.frame.DataFrame'>\n",
      "RangeIndex: 188010 entries, 0 to 188009\n",
      "Data columns (total 10 columns):\n",
      "order         188010 non-null int64\n",
      "test_train    188010 non-null object\n",
      "callID        188010 non-null object\n",
      "index         188010 non-null int64\n",
      "speaker       188010 non-null object\n",
      "startTime     188010 non-null object\n",
      "endTime       188010 non-null float64\n",
      "transcript    188010 non-null object\n",
      "emotion       690 non-null object\n",
      "wordcount     188010 non-null int64\n",
      "dtypes: float64(1), int64(3), object(6)\n",
      "memory usage: 14.3+ MB\n"
     ]
    }
   ],
   "source": [
    "corpus2.info()"
   ]
  },
  {
   "cell_type": "code",
   "execution_count": 5,
   "metadata": {},
   "outputs": [],
   "source": [
    "#removing white spaces from before and after the strings; making speaker a category\n",
    "corpus2['transcript_strip'] = corpus2['transcript'].str.strip()\n",
    "corpus2['speaker_cat'] = corpus2['speaker'].astype('category')\n",
    "#corpus2.speaker_cat.cat.codes"
   ]
  },
  {
   "cell_type": "code",
   "execution_count": 6,
   "metadata": {},
   "outputs": [
    {
     "data": {
      "image/png": "[encoded data removed]",
      "text/plain": [
       "<Figure size 432x288 with 1 Axes>"
      ]
     },
     "metadata": {
      "needs_background": "light"
     },
     "output_type": "display_data"
    }
   ],
   "source": [
    "#word count distribution plot\n",
    "fig, ax = plt.subplots(figsize=(6, 4))\n",
    "sns.distplot(corpus2['wordcount'], color='green', hist_kws=dict(alpha=1))\n",
    "plt.xlabel('Word Count')\n",
    "plt.title('Distribution of Word Count')\n",
    "plt.show()"
   ]
  },
  {
   "cell_type": "code",
   "execution_count": 7,
   "metadata": {},
   "outputs": [],
   "source": [
    "#from visual inspection, VADER scores seemed crappy with excess words. i included all the data here but it's worth \n",
    "#considering cutting them off at some point\n",
    "#corpus2a = corpus2[corpus2['wordcount'] < 50]"
   ]
  },
  {
   "cell_type": "code",
   "execution_count": 9,
   "metadata": {},
   "outputs": [],
   "source": [
    "###integrating vader\n",
    "###come back here and take it out if it doesn't pan out\n",
    "from vaderSentiment.vaderSentiment import SentimentIntensityAnalyzer\n",
    "analyzer = SentimentIntensityAnalyzer()\n",
    "corpus2a = corpus2.transcript.apply(analyzer.polarity_scores)"
   ]
  },
  {
   "cell_type": "code",
   "execution_count": 10,
   "metadata": {},
   "outputs": [],
   "source": [
    "#appending vader scores to the main data frame \n",
    "from collections import defaultdict\n",
    "tmp = defaultdict(list)\n",
    "for i,row in corpus2a.iteritems():\n",
    "    for k in row:\n",
    "        tmp[k].append(row[k])\n",
    "        \n",
    "tmp = pd.DataFrame(tmp)\n",
    "corpus2b = pd.concat([corpus2, tmp], axis=1)"
   ]
  },
  {
   "cell_type": "code",
   "execution_count": 11,
   "metadata": {},
   "outputs": [
    {
     "data": {
      "image/png": "[encoded data removed]",
      "text/plain": [
       "<Figure size 720x432 with 1 Axes>"
      ]
     },
     "metadata": {
      "needs_background": "light"
     },
     "output_type": "display_data"
    }
   ],
   "source": [
    "#compound score distribution \n",
    "#it is typically for these to have a left skew\n",
    "#models tend to be better at identifying positive sentiment relative to negative\n",
    "fig, ax = plt.subplots(figsize=(10, 6))\n",
    "sns.distplot(corpus2b['compound'], color='blue', hist_kws=dict(alpha=1))\n",
    "plt.xlabel('Compound Score')\n",
    "plt.title('Distribution of Compound Score')\n",
    "plt.show()"
   ]
  },
  {
   "cell_type": "code",
   "execution_count": 12,
   "metadata": {},
   "outputs": [
    {
     "data": {
      "text/html": [
       "<div>\n",
       "<style scoped>\n",
       "    .dataframe tbody tr th:only-of-type {\n",
       "        vertical-align: middle;\n",
       "    }\n",
       "\n",
       "    .dataframe tbody tr th {\n",
       "        vertical-align: top;\n",
       "    }\n",
       "\n",
       "    .dataframe thead th {\n",
       "        text-align: right;\n",
       "    }\n",
       "</style>\n",
       "<table border=\"1\" class=\"dataframe\">\n",
       "  <thead>\n",
       "    <tr style=\"text-align: right;\">\n",
       "      <th></th>\n",
       "      <th>order</th>\n",
       "      <th>test_train</th>\n",
       "      <th>callID</th>\n",
       "      <th>index</th>\n",
       "      <th>speaker</th>\n",
       "      <th>startTime</th>\n",
       "      <th>endTime</th>\n",
       "      <th>transcript</th>\n",
       "      <th>emotion</th>\n",
       "      <th>wordcount</th>\n",
       "      <th>transcript_strip</th>\n",
       "      <th>speaker_cat</th>\n",
       "      <th>neg</th>\n",
       "      <th>neu</th>\n",
       "      <th>pos</th>\n",
       "      <th>compound</th>\n",
       "    </tr>\n",
       "  </thead>\n",
       "  <tbody>\n",
       "    <tr>\n",
       "      <th>0</th>\n",
       "      <td>0</td>\n",
       "      <td>Test</td>\n",
       "      <td>0a2c3d67-c0f7-4abb-831a-86009e29c5d2</td>\n",
       "      <td>0</td>\n",
       "      <td>Agent</td>\n",
       "      <td>1.26</td>\n",
       "      <td>4.24</td>\n",
       "      <td>those recovery minutes name you thomas speakin...</td>\n",
       "      <td>NaN</td>\n",
       "      <td>12</td>\n",
       "      <td>those recovery minutes name you thomas speakin...</td>\n",
       "      <td>Agent</td>\n",
       "      <td>0.0</td>\n",
       "      <td>0.787</td>\n",
       "      <td>0.213</td>\n",
       "      <td>0.4019</td>\n",
       "    </tr>\n",
       "    <tr>\n",
       "      <th>1</th>\n",
       "      <td>1</td>\n",
       "      <td>Test</td>\n",
       "      <td>0a2c3d67-c0f7-4abb-831a-86009e29c5d2</td>\n",
       "      <td>1</td>\n",
       "      <td>Borrower</td>\n",
       "      <td>4.74</td>\n",
       "      <td>13.68</td>\n",
       "      <td>hi angela this is katie the phone number one e...</td>\n",
       "      <td>NaN</td>\n",
       "      <td>20</td>\n",
       "      <td>hi angela this is katie the phone number one e...</td>\n",
       "      <td>Borrower</td>\n",
       "      <td>0.0</td>\n",
       "      <td>0.933</td>\n",
       "      <td>0.067</td>\n",
       "      <td>0.0772</td>\n",
       "    </tr>\n",
       "    <tr>\n",
       "      <th>2</th>\n",
       "      <td>2</td>\n",
       "      <td>Test</td>\n",
       "      <td>0a2c3d67-c0f7-4abb-831a-86009e29c5d2</td>\n",
       "      <td>2</td>\n",
       "      <td>Agent</td>\n",
       "      <td>15.43</td>\n",
       "      <td>17.05</td>\n",
       "      <td>four worth okay</td>\n",
       "      <td>NaN</td>\n",
       "      <td>3</td>\n",
       "      <td>four worth okay</td>\n",
       "      <td>Agent</td>\n",
       "      <td>0.0</td>\n",
       "      <td>0.208</td>\n",
       "      <td>0.792</td>\n",
       "      <td>0.4215</td>\n",
       "    </tr>\n",
       "    <tr>\n",
       "      <th>3</th>\n",
       "      <td>3</td>\n",
       "      <td>Test</td>\n",
       "      <td>0a2c3d67-c0f7-4abb-831a-86009e29c5d2</td>\n",
       "      <td>3</td>\n",
       "      <td>Borrower</td>\n",
       "      <td>16.13</td>\n",
       "      <td>16.63</td>\n",
       "      <td>alright</td>\n",
       "      <td>NaN</td>\n",
       "      <td>1</td>\n",
       "      <td>alright</td>\n",
       "      <td>Borrower</td>\n",
       "      <td>0.0</td>\n",
       "      <td>0.000</td>\n",
       "      <td>1.000</td>\n",
       "      <td>0.2500</td>\n",
       "    </tr>\n",
       "    <tr>\n",
       "      <th>4</th>\n",
       "      <td>4</td>\n",
       "      <td>Test</td>\n",
       "      <td>0a2c3d67-c0f7-4abb-831a-86009e29c5d2</td>\n",
       "      <td>4</td>\n",
       "      <td>Borrower</td>\n",
       "      <td>17.74</td>\n",
       "      <td>22.87</td>\n",
       "      <td>this it's i you get submit okay</td>\n",
       "      <td>NaN</td>\n",
       "      <td>7</td>\n",
       "      <td>this it's i you get submit okay</td>\n",
       "      <td>Borrower</td>\n",
       "      <td>0.0</td>\n",
       "      <td>0.725</td>\n",
       "      <td>0.275</td>\n",
       "      <td>0.2263</td>\n",
       "    </tr>\n",
       "  </tbody>\n",
       "</table>\n",
       "</div>"
      ],
      "text/plain": [
       "   order test_train                                callID  index   speaker  \\\n",
       "0      0       Test  0a2c3d67-c0f7-4abb-831a-86009e29c5d2      0     Agent   \n",
       "1      1       Test  0a2c3d67-c0f7-4abb-831a-86009e29c5d2      1  Borrower   \n",
       "2      2       Test  0a2c3d67-c0f7-4abb-831a-86009e29c5d2      2     Agent   \n",
       "3      3       Test  0a2c3d67-c0f7-4abb-831a-86009e29c5d2      3  Borrower   \n",
       "4      4       Test  0a2c3d67-c0f7-4abb-831a-86009e29c5d2      4  Borrower   \n",
       "\n",
       "  startTime  endTime                                         transcript  \\\n",
       "0      1.26     4.24  those recovery minutes name you thomas speakin...   \n",
       "1      4.74    13.68  hi angela this is katie the phone number one e...   \n",
       "2     15.43    17.05                                    four worth okay   \n",
       "3     16.13    16.63                                            alright   \n",
       "4     17.74    22.87                    this it's i you get submit okay   \n",
       "\n",
       "  emotion  wordcount                                   transcript_strip  \\\n",
       "0     NaN         12  those recovery minutes name you thomas speakin...   \n",
       "1     NaN         20  hi angela this is katie the phone number one e...   \n",
       "2     NaN          3                                    four worth okay   \n",
       "3     NaN          1                                            alright   \n",
       "4     NaN          7                    this it's i you get submit okay   \n",
       "\n",
       "  speaker_cat  neg    neu    pos  compound  \n",
       "0       Agent  0.0  0.787  0.213    0.4019  \n",
       "1    Borrower  0.0  0.933  0.067    0.0772  \n",
       "2       Agent  0.0  0.208  0.792    0.4215  \n",
       "3    Borrower  0.0  0.000  1.000    0.2500  \n",
       "4    Borrower  0.0  0.725  0.275    0.2263  "
      ]
     },
     "execution_count": 12,
     "metadata": {},
     "output_type": "execute_result"
    }
   ],
   "source": [
    "corpus2b.head()"
   ]
  },
  {
   "cell_type": "code",
   "execution_count": 13,
   "metadata": {},
   "outputs": [
    {
     "data": {
      "text/plain": [
       "(119502, 16)"
      ]
     },
     "execution_count": 13,
     "metadata": {},
     "output_type": "execute_result"
    }
   ],
   "source": [
    "#from the plot it appears that a majority are neutral\n",
    "corpus2c = corpus2b[corpus2b['compound'] != 0]\n",
    "corpus2c.head()\n",
    "corpus2c.shape"
   ]
  },
  {
   "cell_type": "code",
   "execution_count": 14,
   "metadata": {},
   "outputs": [
    {
     "data": {
      "text/plain": [
       "(188010, 16)"
      ]
     },
     "execution_count": 14,
     "metadata": {},
     "output_type": "execute_result"
    }
   ],
   "source": [
    "#68508 cases have a compound score of 0... let's disregard them. all code after this it the original\n",
    "#pre-integration of vader scores\n",
    "corpus2b.shape"
   ]
  },
  {
   "cell_type": "code",
   "execution_count": 15,
   "metadata": {},
   "outputs": [
    {
     "data": {
      "text/html": [
       "<div>\n",
       "<style scoped>\n",
       "    .dataframe tbody tr th:only-of-type {\n",
       "        vertical-align: middle;\n",
       "    }\n",
       "\n",
       "    .dataframe tbody tr th {\n",
       "        vertical-align: top;\n",
       "    }\n",
       "\n",
       "    .dataframe thead th {\n",
       "        text-align: right;\n",
       "    }\n",
       "</style>\n",
       "<table border=\"1\" class=\"dataframe\">\n",
       "  <thead>\n",
       "    <tr style=\"text-align: right;\">\n",
       "      <th></th>\n",
       "      <th>transcript_strip</th>\n",
       "      <th>emotion</th>\n",
       "      <th>category_id</th>\n",
       "    </tr>\n",
       "  </thead>\n",
       "  <tbody>\n",
       "    <tr>\n",
       "      <th>282</th>\n",
       "      <td>alright thank you</td>\n",
       "      <td>polite</td>\n",
       "      <td>0</td>\n",
       "    </tr>\n",
       "    <tr>\n",
       "      <th>425</th>\n",
       "      <td>i could do it as perfect if you could split it up</td>\n",
       "      <td>no emotion</td>\n",
       "      <td>1</td>\n",
       "    </tr>\n",
       "    <tr>\n",
       "      <th>599</th>\n",
       "      <td>alright thanks</td>\n",
       "      <td>polite</td>\n",
       "      <td>0</td>\n",
       "    </tr>\n",
       "    <tr>\n",
       "      <th>981</th>\n",
       "      <td>alright thank you so much for holding this is ...</td>\n",
       "      <td>polite</td>\n",
       "      <td>0</td>\n",
       "    </tr>\n",
       "    <tr>\n",
       "      <th>1956</th>\n",
       "      <td>alright thank you so much</td>\n",
       "      <td>polite</td>\n",
       "      <td>0</td>\n",
       "    </tr>\n",
       "  </tbody>\n",
       "</table>\n",
       "</div>"
      ],
      "text/plain": [
       "                                       transcript_strip     emotion  \\\n",
       "282                                   alright thank you      polite   \n",
       "425   i could do it as perfect if you could split it up  no emotion   \n",
       "599                                      alright thanks      polite   \n",
       "981   alright thank you so much for holding this is ...      polite   \n",
       "1956                          alright thank you so much      polite   \n",
       "\n",
       "      category_id  \n",
       "282             0  \n",
       "425             1  \n",
       "599             0  \n",
       "981             0  \n",
       "1956            0  "
      ]
     },
     "execution_count": 15,
     "metadata": {},
     "output_type": "execute_result"
    }
   ],
   "source": [
    "#focusing just on the two columns of interest - transcript_strip and emotion\n",
    "#getting rid of all null values\n",
    "from io import StringIO\n",
    "\n",
    "col = ['transcript_strip', 'emotion']\n",
    "corpus3 = corpus2c[col]\n",
    "corpus3 = corpus3[pd.notnull(corpus3['transcript_strip'])]\n",
    "corpus3 = corpus3[pd.notnull(corpus3['emotion'])]\n",
    "\n",
    "\n",
    "corpus3.columns = ['transcript_strip', 'emotion']\n",
    "\n",
    "corpus3['category_id'] = corpus3['emotion'].factorize()[0]\n",
    "category_id_corpus3 = corpus3[['emotion', 'category_id']].drop_duplicates().sort_values('category_id')\n",
    "category_to_id = dict(category_id_corpus3.values)\n",
    "id_to_category = dict(category_id_corpus3[['category_id', 'emotion']].values)\n",
    "\n",
    "corpus3.head()"
   ]
  },
  {
   "cell_type": "code",
   "execution_count": 16,
   "metadata": {},
   "outputs": [
    {
     "data": {
      "image/png": "[encoded data removed]",
      "text/plain": [
       "<Figure size 576x432 with 1 Axes>"
      ]
     },
     "metadata": {
      "needs_background": "light"
     },
     "output_type": "display_data"
    }
   ],
   "source": [
    "import matplotlib.pyplot as plt\n",
    "fig = plt.figure(figsize=(8,6))\n",
    "corpus3.groupby('category_id').transcript_strip.count().plot.bar(ylim=0)\n",
    "plt.show()"
   ]
  },
  {
   "cell_type": "code",
   "execution_count": 17,
   "metadata": {},
   "outputs": [
    {
     "data": {
      "text/plain": [
       "(490, 228)"
      ]
     },
     "execution_count": 17,
     "metadata": {},
     "output_type": "execute_result"
    }
   ],
   "source": [
    "#now each of the transcript narratives is represented by features representing the tf-idf score for different unigram and bigrams\n",
    "from sklearn.feature_extraction.text import TfidfVectorizer\n",
    "tfidf = TfidfVectorizer(sublinear_tf=True, min_df=4, norm='l2', encoding='latin-1', ngram_range=(1, 2), stop_words='english')\n",
    "features = tfidf.fit_transform(corpus3.transcript_strip).toarray()\n",
    "labels = corpus3.category_id\n",
    "features.shape"
   ]
  },
  {
   "cell_type": "code",
   "execution_count": 18,
   "metadata": {
    "scrolled": true
   },
   "outputs": [
    {
     "name": "stdout",
     "output_type": "stream",
     "text": [
      "# 'angry':\n",
      "  . Most correlated unigrams:\n",
      ". harassing\n",
      ". law\n",
      "  . Most correlated bigrams:\n",
      ". broke law\n",
      ". just broke\n",
      "# 'avoidant':\n",
      "  . Most correlated unigrams:\n",
      ". pay\n",
      ". money\n",
      "  . Most correlated bigrams:\n",
      ". money right\n",
      ". don money\n",
      "# 'confused':\n",
      "  . Most correlated unigrams:\n",
      ". sorry\n",
      ". confused\n",
      "  . Most correlated bigrams:\n",
      ". don know\n",
      ". little confused\n",
      "# 'no emotion':\n",
      "  . Most correlated unigrams:\n",
      ". yes\n",
      ". okay\n",
      "  . Most correlated bigrams:\n",
      ". just calling\n",
      ". alright thank\n",
      "# 'polite':\n",
      "  . Most correlated unigrams:\n",
      ". alright\n",
      ". thank\n",
      "  . Most correlated bigrams:\n",
      ". alright thanks\n",
      ". alright thank\n"
     ]
    }
   ],
   "source": [
    "#find the terms more correlated w each of the emotion labels\n",
    "#just curious\n",
    "from sklearn.feature_selection import chi2\n",
    "import numpy as np\n",
    "N = 2\n",
    "for emotion, category_id in sorted(category_to_id.items()):\n",
    "  features_chi2 = chi2(features, labels == category_id)\n",
    "  indices = np.argsort(features_chi2[0])\n",
    "  feature_names = np.array(tfidf.get_feature_names())[indices]\n",
    "  unigrams = [v for v in feature_names if len(v.split(' ')) == 1]\n",
    "  bigrams = [v for v in feature_names if len(v.split(' ')) == 2]\n",
    "  print(\"# '{}':\".format(emotion))\n",
    "  print(\"  . Most correlated unigrams:\\n. {}\".format('\\n. '.join(unigrams[-N:])))\n",
    "  print(\"  . Most correlated bigrams:\\n. {}\".format('\\n. '.join(bigrams[-N:])))"
   ]
  },
  {
   "cell_type": "code",
   "execution_count": 19,
   "metadata": {},
   "outputs": [],
   "source": [
    "#fitting multinomial naive bayes\n",
    "from sklearn.model_selection import train_test_split\n",
    "from sklearn.feature_extraction.text import CountVectorizer\n",
    "from sklearn.feature_extraction.text import TfidfTransformer\n",
    "from sklearn.naive_bayes import MultinomialNB\n",
    "\n",
    "X_train, X_test, y_train, y_test = train_test_split(corpus3['transcript_strip'], corpus3['emotion'], random_state = 0)\n",
    "count_vect = CountVectorizer()\n",
    "X_train_counts = count_vect.fit_transform(X_train)\n",
    "tfidf_transformer = TfidfTransformer()\n",
    "X_train_tfidf = tfidf_transformer.fit_transform(X_train_counts)\n",
    "clf = MultinomialNB().fit(X_train_tfidf, y_train)"
   ]
  },
  {
   "cell_type": "code",
   "execution_count": 20,
   "metadata": {},
   "outputs": [
    {
     "name": "stdout",
     "output_type": "stream",
     "text": [
      "['avoidant']\n"
     ]
    }
   ],
   "source": [
    "#this allows me to test out how classification is going\n",
    "print(clf.predict(count_vect.transform([\"i'm not going to pay\"])))"
   ]
  },
  {
   "cell_type": "code",
   "execution_count": 21,
   "metadata": {},
   "outputs": [
    {
     "data": {
      "image/png": "[encoded data removed]",
      "text/plain": [
       "<Figure size 432x288 with 1 Axes>"
      ]
     },
     "metadata": {},
     "output_type": "display_data"
    }
   ],
   "source": [
    "#bench marking 4 models - logistic regression, multinomial naive bayes, linear support vector machine, random forest\n",
    "from sklearn.linear_model import LogisticRegression\n",
    "from sklearn.ensemble import RandomForestClassifier\n",
    "from sklearn.svm import LinearSVC\n",
    "from sklearn.model_selection import cross_val_score\n",
    "\n",
    "sns.set_style(\"white\")\n",
    "\n",
    "import warnings\n",
    "\n",
    "warnings.simplefilter(action='ignore', category=FutureWarning)\n",
    "models = [\n",
    "    RandomForestClassifier(n_estimators=200, max_depth=3, random_state=0),\n",
    "    LinearSVC(),\n",
    "    MultinomialNB(),\n",
    "    LogisticRegression(solver='lbfgs', random_state=0),\n",
    "]\n",
    "CV = 5\n",
    "cv_df = pd.DataFrame(index=range(CV * len(models)))\n",
    "entries = []\n",
    "for model in models:\n",
    "  model_name = model.__class__.__name__\n",
    "  accuracies = cross_val_score(model, features, labels, scoring='accuracy', cv=CV)\n",
    "  for fold_idx, accuracy in enumerate(accuracies):\n",
    "    entries.append((model_name, fold_idx, accuracy))\n",
    "cv_df = pd.DataFrame(entries, columns=['model_name', 'fold_idx', 'accuracy'])\n",
    "\n",
    "mod_plot = sns.boxplot(x='model_name', y='accuracy', data=cv_df)\n",
    "mod_plot = sns.stripplot(x='model_name', y='accuracy', data=cv_df, \n",
    "              size=8, jitter=True, edgecolor=\"gray\", linewidth=2)\n",
    "plt.setp(mod_plot.get_xticklabels(), rotation=345)\n",
    "mod_plot.set(xlabel='', ylabel='Accuracy')\n",
    "\n",
    "\n",
    "\n",
    "plt.show()"
   ]
  },
  {
   "cell_type": "code",
   "execution_count": 22,
   "metadata": {},
   "outputs": [
    {
     "data": {
      "text/plain": [
       "model_name\n",
       "LinearSVC                 0.742901\n",
       "LogisticRegression        0.740898\n",
       "MultinomialNB             0.730816\n",
       "RandomForestClassifier    0.614384\n",
       "Name: accuracy, dtype: float64"
      ]
     },
     "execution_count": 22,
     "metadata": {},
     "output_type": "execute_result"
    }
   ],
   "source": [
    "cv_df.groupby('model_name').accuracy.mean()"
   ]
  },
  {
   "cell_type": "code",
   "execution_count": 23,
   "metadata": {},
   "outputs": [
    {
     "data": {
      "image/png": "[encoded data removed]",
      "text/plain": [
       "<Figure size 720x720 with 2 Axes>"
      ]
     },
     "metadata": {},
     "output_type": "display_data"
    }
   ],
   "source": [
    "#confusion matrix - raw numbers \n",
    "\n",
    "import warnings\n",
    "warnings.simplefilter(action='ignore', category=FutureWarning)\n",
    "\n",
    "model = LinearSVC()\n",
    "X_train, X_test, y_train, y_test, indices_train, indices_test = train_test_split(features, labels, corpus3.index, test_size=0.30, random_state=0)\n",
    "model.fit(X_train, y_train)\n",
    "y_pred = model.predict(X_test)\n",
    "\n",
    "from sklearn.metrics import confusion_matrix\n",
    "conf_mat = confusion_matrix(y_test, y_pred)\n",
    "fig, ax = plt.subplots(figsize=(10,10))\n",
    "sns.heatmap(conf_mat, annot=True, fmt='d', cmap=\"Blues\",\n",
    "            xticklabels=category_id_corpus3.emotion.values, yticklabels=category_id_corpus3.emotion.values)\n",
    "plt.ylabel('Actual')\n",
    "plt.xlabel('Predicted')\n",
    "plt.show()"
   ]
  },
  {
   "cell_type": "code",
   "execution_count": 24,
   "metadata": {},
   "outputs": [
    {
     "data": {
      "image/png": "[encoded data removed]",
      "text/plain": [
       "<Figure size 720x720 with 2 Axes>"
      ]
     },
     "metadata": {},
     "output_type": "display_data"
    }
   ],
   "source": [
    "#confusion matrix - normalized\n",
    "conf_mat = confusion_matrix(y_test, y_pred)\n",
    "cm_normalized = conf_mat.astype('float') / conf_mat.sum(axis=1)[:, np.newaxis]\n",
    "fig, ax = plt.subplots(figsize=(10,10))\n",
    "sns.heatmap(cm_normalized, annot=True, cmap=\"Blues\",\n",
    "            xticklabels=category_id_corpus3.emotion.values, yticklabels=category_id_corpus3.emotion.values)\n",
    "sns.set(font_scale=1.5)\n",
    "plt.ylabel('Actual')\n",
    "plt.xlabel('Predicted')\n",
    "plt.show()"
   ]
  },
  {
   "cell_type": "code",
   "execution_count": null,
   "metadata": {},
   "outputs": [],
   "source": [
    "from IPython.display import display\n",
    "for predicted in category_id_corpus3.category_id:\n",
    "  for actual in category_id_corpus3.category_id:\n",
    "    if predicted != actual and conf_mat[actual, predicted] >= 5:\n",
    "      print(\"'{}' predicted as '{}' : {} examples.\".format(id_to_category[actual], id_to_category[predicted], conf_mat[actual, predicted]))\n",
    "      display(corpus3.loc[indices_test[(y_test == actual) & (y_pred == predicted)]][['emotion', 'transcript_strip']])\n",
    "      print('')"
   ]
  },
  {
   "cell_type": "code",
   "execution_count": null,
   "metadata": {},
   "outputs": [],
   "source": [
    "model.fit(features, labels)\n",
    "N = 2\n",
    "for Product, category_id in sorted(category_to_id.items()):\n",
    "  indices = np.argsort(model.coef_[category_id])\n",
    "  feature_names = np.array(tfidf.get_feature_names())[indices]\n",
    "  unigrams = [v for v in reversed(feature_names) if len(v.split(' ')) == 1][:N]\n",
    "  bigrams = [v for v in reversed(feature_names) if len(v.split(' ')) == 2][:N]\n",
    "  print(\"# '{}':\".format(Product))\n",
    "  print(\"  . Top unigrams:\\n       . {}\".format('\\n       . '.join(unigrams)))\n",
    "  print(\"  . Top bigrams:\\n       . {}\".format('\\n       . '.join(bigrams)))"
   ]
  },
  {
   "cell_type": "code",
   "execution_count": null,
   "metadata": {
    "scrolled": true
   },
   "outputs": [],
   "source": [
    "from sklearn import metrics\n",
    "print(metrics.classification_report(y_test, y_pred, target_names=corpus3['emotion'].unique()))"
   ]
  },
  {
   "cell_type": "code",
   "execution_count": null,
   "metadata": {},
   "outputs": [],
   "source": [
    "#save model after training\n",
    "import joblib\n",
    "joblib.dump(model, 'model.pkl')"
   ]
  },
  {
   "cell_type": "code",
   "execution_count": null,
   "metadata": {},
   "outputs": [],
   "source": [
    "#When you need to load it:\n",
    "#model = open('model.pkl','rb')\n",
    "#model = joblib.load(model)"
   ]
  },
  {
   "cell_type": "code",
   "execution_count": null,
   "metadata": {},
   "outputs": [],
   "source": [
    "result = model.score(X_test, y_test)"
   ]
  },
  {
   "cell_type": "code",
   "execution_count": null,
   "metadata": {
    "scrolled": true
   },
   "outputs": [],
   "source": [
    "print(result)"
   ]
  },
  {
   "cell_type": "code",
   "execution_count": null,
   "metadata": {},
   "outputs": [],
   "source": [
    "y_pred=model.predict(X_test)"
   ]
  },
  {
   "cell_type": "code",
   "execution_count": null,
   "metadata": {},
   "outputs": [],
   "source": [
    "print(y_pred)"
   ]
  },
  {
   "cell_type": "code",
   "execution_count": null,
   "metadata": {},
   "outputs": [],
   "source": [
    "#for untested data we want borrowers only, emotion column empty, and compound score != 0\n",
    "#already have no compound scores of 0 from above code\n",
    "corpus_subset = corpus2c[(corpus2c.speaker_cat == 'Borrower')]\n",
    "corpus_subset.head()"
   ]
  },
  {
   "cell_type": "code",
   "execution_count": null,
   "metadata": {},
   "outputs": [],
   "source": [
    "#focusing just on the one columns of interest - transcript_strip and emotion\n",
    "#getting rid of all null values\n",
    "from io import StringIO\n",
    "\n",
    "col_new = ['transcript_strip']\n",
    "corpus_new = corpus_subset[col_new]\n",
    "corpus_new = corpus_new[pd.notnull(corpus_new['transcript_strip'])]\n",
    "\n",
    "corpus_new.columns = ['transcript_strip']\n",
    "corpus_new.head()"
   ]
  },
  {
   "cell_type": "code",
   "execution_count": null,
   "metadata": {},
   "outputs": [],
   "source": [
    "test_features = tfidf.transform(corpus_subset.transcript_strip)"
   ]
  },
  {
   "cell_type": "code",
   "execution_count": null,
   "metadata": {},
   "outputs": [],
   "source": [
    "X_new = (test_features)"
   ]
  },
  {
   "cell_type": "code",
   "execution_count": null,
   "metadata": {},
   "outputs": [],
   "source": [
    "y_new = model.predict(test_features)"
   ]
  },
  {
   "cell_type": "code",
   "execution_count": null,
   "metadata": {},
   "outputs": [],
   "source": [
    "print(y_new)"
   ]
  },
  {
   "cell_type": "code",
   "execution_count": null,
   "metadata": {},
   "outputs": [],
   "source": [
    "y_new.shape"
   ]
  },
  {
   "cell_type": "code",
   "execution_count": null,
   "metadata": {},
   "outputs": [],
   "source": [
    "y_new_df = pd.DataFrame(y_new)\n",
    "y_new_df.head()"
   ]
  },
  {
   "cell_type": "code",
   "execution_count": null,
   "metadata": {},
   "outputs": [],
   "source": [
    "#integrating categorizations back in \n",
    "corpus_run = pd.concat([corpus_subset.reset_index(drop=True), y_new_df], axis=1)\n",
    "corpus_run.head()"
   ]
  }
 ],
 "metadata": {
  "kernelspec": {
   "display_name": "Python 3",
   "language": "python",
   "name": "python3"
  },
  "language_info": {
   "codemirror_mode": {
    "name": "ipython",
    "version": 3
   },
   "file_extension": ".py",
   "mimetype": "text/x-python",
   "name": "python",
   "nbconvert_exporter": "python",
   "pygments_lexer": "ipython3",
   "version": "3.7.3"
  }
 },
 "nbformat": 4,
 "nbformat_minor": 2
}
